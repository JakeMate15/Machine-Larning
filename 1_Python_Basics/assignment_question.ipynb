{
 "cells": [
  {
   "cell_type": "markdown",
   "metadata": {},
   "source": [
    "# Lesson 1.2: Python Basics\n",
    "## Topics Covered:\n",
    "- Syntax and Semantics\n",
    "- Variables and Data Types\n",
    "- Basic Operators (Arithmetic, Comparison, Logical)\n"
   ]
  },
  {
   "cell_type": "markdown",
   "metadata": {},
   "source": [
    "## 1. Syntax and Semantics\n",
    "\n",
    "**Question 1:** Write a Python program to print \"Hello, World!\"."
   ]
  },
  {
   "cell_type": "code",
   "metadata": {
    "ExecuteTime": {
     "end_time": "2024-09-11T04:45:38.011827Z",
     "start_time": "2024-09-11T04:45:38.007170Z"
    }
   },
   "source": [
    "from fontTools.misc.cython import returns\n",
    "\n",
    "# Your code here\n",
    "print(\"Hello, Wolrdl!\")"
   ],
   "outputs": [
    {
     "name": "stdout",
     "output_type": "stream",
     "text": [
      "Hello, Wolrdl!\n"
     ]
    }
   ],
   "execution_count": 1
  },
  {
   "cell_type": "markdown",
   "metadata": {},
   "source": [
    "**Question 2:** Write a Python program that takes a user input and prints it."
   ]
  },
  {
   "cell_type": "code",
   "metadata": {
    "ExecuteTime": {
     "end_time": "2024-09-11T04:46:17.743909Z",
     "start_time": "2024-09-11T04:46:14.615200Z"
    }
   },
   "source": [
    "# Your code here\n",
    "userInput = input(\"Escribre algo: \")\n",
    "print(userInput)"
   ],
   "outputs": [
    {
     "name": "stdout",
     "output_type": "stream",
     "text": [
      "hola\n"
     ]
    }
   ],
   "execution_count": 2
  },
  {
   "cell_type": "markdown",
   "metadata": {},
   "source": [
    "**Question 3:** Write a Python program to check if a number is positive, negative, or zero."
   ]
  },
  {
   "cell_type": "code",
   "metadata": {
    "ExecuteTime": {
     "end_time": "2024-09-11T04:47:19.284223Z",
     "start_time": "2024-09-11T04:47:15.832629Z"
    }
   },
   "source": [
    "# Your code here\n",
    "number = int(input(\"Escribe un numero: \"))\n",
    "if number < 0:\n",
    "    print(\"Negativo\")\n",
    "elif number > 0:\n",
    "    print(\"Positivo\")\n",
    "else:\n",
    "    print(\"Cero\")"
   ],
   "outputs": [
    {
     "name": "stdout",
     "output_type": "stream",
     "text": [
      "Negativo\n"
     ]
    }
   ],
   "execution_count": 3
  },
  {
   "cell_type": "markdown",
   "metadata": {},
   "source": [
    "**Question 4:** Write a Python program to find the largest of three numbers."
   ]
  },
  {
   "cell_type": "code",
   "metadata": {
    "ExecuteTime": {
     "end_time": "2024-09-11T04:49:12.871773Z",
     "start_time": "2024-09-11T04:49:08.050557Z"
    }
   },
   "source": [
    "# Your code here\n",
    "numeros = map(int, input(\"Escribe un numeros: \").split())\n",
    "print(min(numeros))"
   ],
   "outputs": [
    {
     "name": "stdout",
     "output_type": "stream",
     "text": [
      "-1\n"
     ]
    }
   ],
   "execution_count": 4
  },
  {
   "cell_type": "markdown",
   "metadata": {},
   "source": [
    "**Question 5:** Write a Python program to calculate the factorial of a number."
   ]
  },
  {
   "cell_type": "code",
   "metadata": {
    "ExecuteTime": {
     "end_time": "2024-09-11T04:50:26.202903Z",
     "start_time": "2024-09-11T04:50:23.687952Z"
    }
   },
   "source": [
    "# Your code here\n",
    "n = int(input(\"Escribe un numero: \"))\n",
    "fact = 1\n",
    "for i in range(1, n + 1):\n",
    "    fact *= i\n",
    "print(fact)"
   ],
   "outputs": [
    {
     "name": "stdout",
     "output_type": "stream",
     "text": [
      "120\n"
     ]
    }
   ],
   "execution_count": 5
  },
  {
   "cell_type": "markdown",
   "metadata": {},
   "source": [
    "## 2. Variables and Data Types\n",
    "\n",
    "**Question 6:** Create variables of different data types: integer, float, string, and boolean. Print their values and types."
   ]
  },
  {
   "cell_type": "code",
   "metadata": {
    "ExecuteTime": {
     "end_time": "2024-09-11T04:51:37.556049Z",
     "start_time": "2024-09-11T04:51:37.551682Z"
    }
   },
   "source": [
    "# Your code here\n",
    "entero = 5\n",
    "flotante = 5.0\n",
    "cadena = 'hola'\n",
    "logico = True\n",
    "\n",
    "print(type(entero))\n",
    "print(type(flotante))\n",
    "print(type(cadena))\n",
    "print(type(logico))"
   ],
   "outputs": [
    {
     "name": "stdout",
     "output_type": "stream",
     "text": [
      "<class 'int'>\n",
      "<class 'float'>\n",
      "<class 'str'>\n",
      "<class 'bool'>\n"
     ]
    }
   ],
   "execution_count": 6
  },
  {
   "cell_type": "markdown",
   "metadata": {},
   "source": [
    "**Question 7:** Write a Python program to swap the values of two variables."
   ]
  },
  {
   "cell_type": "code",
   "metadata": {
    "ExecuteTime": {
     "end_time": "2024-09-11T04:52:48.988822Z",
     "start_time": "2024-09-11T04:52:48.984142Z"
    }
   },
   "source": [
    "# Your code here\n",
    "a = 5\n",
    "b = 9\n",
    "print(a, b)\n",
    "\n",
    "a, b = b, a\n",
    "print(a, b)"
   ],
   "outputs": [
    {
     "name": "stdout",
     "output_type": "stream",
     "text": [
      "5 9\n",
      "9 5\n"
     ]
    }
   ],
   "execution_count": 8
  },
  {
   "cell_type": "markdown",
   "metadata": {},
   "source": [
    "**Question 8:** Write a Python program to convert Celsius to Fahrenheit."
   ]
  },
  {
   "cell_type": "code",
   "metadata": {
    "ExecuteTime": {
     "end_time": "2024-09-11T04:54:24.932342Z",
     "start_time": "2024-09-11T04:54:24.926732Z"
    }
   },
   "source": [
    "# Your code here\n",
    "def cTf(C):\n",
    "    return C * 9 / 5 + 32\n",
    "\n",
    "print(cTf(9))"
   ],
   "outputs": [
    {
     "name": "stdout",
     "output_type": "stream",
     "text": [
      "48.2\n"
     ]
    }
   ],
   "execution_count": 9
  },
  {
   "cell_type": "markdown",
   "metadata": {},
   "source": [
    "**Question 9:** Write a Python program to concatenate two strings."
   ]
  },
  {
   "cell_type": "code",
   "metadata": {
    "ExecuteTime": {
     "end_time": "2024-09-11T04:54:50.282731Z",
     "start_time": "2024-09-11T04:54:50.279163Z"
    }
   },
   "source": [
    "# Your code here\n",
    "a = 'hola '\n",
    "b = 'erik'\n",
    "\n",
    "c = a + b\n",
    "print(c)"
   ],
   "outputs": [
    {
     "name": "stdout",
     "output_type": "stream",
     "text": [
      "hola erik\n"
     ]
    }
   ],
   "execution_count": 10
  },
  {
   "cell_type": "markdown",
   "metadata": {},
   "source": [
    "**Question 10:** Write a Python program to check if a variable is of a specific data type."
   ]
  },
  {
   "cell_type": "code",
   "metadata": {
    "ExecuteTime": {
     "end_time": "2024-09-11T04:55:21.333458Z",
     "start_time": "2024-09-11T04:55:21.329216Z"
    }
   },
   "source": [
    "# Your code here\n",
    "a = 5.0\n",
    "if type(a) == float:\n",
    "    print('float')\n",
    "else:\n",
    "    print('other')"
   ],
   "outputs": [
    {
     "name": "stdout",
     "output_type": "stream",
     "text": [
      "float\n"
     ]
    }
   ],
   "execution_count": 11
  },
  {
   "cell_type": "markdown",
   "metadata": {},
   "source": [
    "## 3. Basic Operators (Arithmetic, Comparison, Logical)\n",
    "\n",
    "**Question 11:** Write a Python program to perform arithmetic operations: addition, subtraction, multiplication, and division."
   ]
  },
  {
   "cell_type": "code",
   "metadata": {
    "ExecuteTime": {
     "end_time": "2024-09-11T04:56:10.064411Z",
     "start_time": "2024-09-11T04:56:10.060417Z"
    }
   },
   "source": [
    "# Your code here\n",
    "a = 5\n",
    "b = 8\n",
    "\n",
    "sum = a + b\n",
    "print(sum)\n",
    "\n",
    "resta = a - b\n",
    "print(resta)\n",
    "\n",
    "mul = a * b\n",
    "print(mul)\n",
    "\n",
    "div = a / b\n",
    "print(div)"
   ],
   "outputs": [
    {
     "name": "stdout",
     "output_type": "stream",
     "text": [
      "13\n",
      "-3\n",
      "40\n",
      "0.625\n"
     ]
    }
   ],
   "execution_count": 12
  },
  {
   "cell_type": "markdown",
   "metadata": {},
   "source": [
    "**Question 12:** Write a Python program to demonstrate comparison operators: equal to, not equal to, greater than, less than."
   ]
  },
  {
   "cell_type": "code",
   "metadata": {
    "ExecuteTime": {
     "end_time": "2024-09-11T04:57:12.237335Z",
     "start_time": "2024-09-11T04:57:12.233656Z"
    }
   },
   "source": [
    "# Your code here\n",
    "a = 5\n",
    "b = 5\n",
    "c = 0\n",
    "\n",
    "print(a == b)\n",
    "print(a != c)\n",
    "print(a > c)\n",
    "print(a < c)"
   ],
   "outputs": [
    {
     "name": "stdout",
     "output_type": "stream",
     "text": [
      "True\n",
      "True\n",
      "True\n",
      "False\n"
     ]
    }
   ],
   "execution_count": 16
  },
  {
   "cell_type": "markdown",
   "metadata": {},
   "source": [
    "**Question 13:** Write a Python program to demonstrate logical operators: and, or, not."
   ]
  },
  {
   "cell_type": "code",
   "metadata": {
    "ExecuteTime": {
     "end_time": "2024-09-11T04:58:27.606283Z",
     "start_time": "2024-09-11T04:58:27.599703Z"
    }
   },
   "source": [
    "# Your code here\n",
    "a = False\n",
    "b = True\n",
    "c = 1\n",
    "\n",
    "print(b and b)\n",
    "\n",
    "if not 0:\n",
    "    print('si')\n",
    "else:\n",
    "    print('no')"
   ],
   "outputs": [
    {
     "name": "stdout",
     "output_type": "stream",
     "text": [
      "True\n",
      "si\n"
     ]
    }
   ],
   "execution_count": 23
  },
  {
   "cell_type": "markdown",
   "metadata": {},
   "source": [
    "**Question 14:** Write a Python program to calculate the square of a number."
   ]
  },
  {
   "cell_type": "code",
   "metadata": {
    "ExecuteTime": {
     "end_time": "2024-09-11T04:58:47.566500Z",
     "start_time": "2024-09-11T04:58:45.781386Z"
    }
   },
   "source": [
    "# Your code here\n",
    "n = int(input(\"Escribe un numero: \"))\n",
    "print(n * n)"
   ],
   "outputs": [
    {
     "name": "stdout",
     "output_type": "stream",
     "text": [
      "25\n"
     ]
    }
   ],
   "execution_count": 24
  },
  {
   "cell_type": "markdown",
   "metadata": {},
   "source": [
    "**Question 15:** Write a Python program to check if a number is even or odd."
   ]
  },
  {
   "cell_type": "code",
   "metadata": {
    "ExecuteTime": {
     "end_time": "2024-09-11T04:59:26.952577Z",
     "start_time": "2024-09-11T04:59:24.037105Z"
    }
   },
   "source": [
    "# Your code here\n",
    "n = int(input(\"Escribe un numero: \"))\n",
    "if n & 1:\n",
    "    print(\"impar\")\n",
    "else:\n",
    "    print(\"par\")"
   ],
   "outputs": [
    {
     "name": "stdout",
     "output_type": "stream",
     "text": [
      "par\n"
     ]
    }
   ],
   "execution_count": 27
  },
  {
   "cell_type": "markdown",
   "metadata": {},
   "source": [
    "**Question 16:** Write a Python program to find the sum of the first n natural numbers."
   ]
  },
  {
   "cell_type": "code",
   "metadata": {
    "ExecuteTime": {
     "end_time": "2024-09-11T05:00:20.727348Z",
     "start_time": "2024-09-11T05:00:18.147946Z"
    }
   },
   "source": [
    "# Your code here\n",
    "n = int(input(\"Escribe un numero: \"))\n",
    "\n",
    "s1 = 0\n",
    "for i in range(1, n + 1):\n",
    "    s1 += i\n",
    "\n",
    "s2 = n * (n + 1) // 2\n",
    "\n",
    "print(s1, s2)"
   ],
   "outputs": [
    {
     "name": "stdout",
     "output_type": "stream",
     "text": [
      "55 55\n"
     ]
    }
   ],
   "execution_count": 29
  },
  {
   "cell_type": "markdown",
   "metadata": {},
   "source": [
    "**Question 17:** Write a Python program to check if a year is a leap year."
   ]
  },
  {
   "cell_type": "code",
   "metadata": {
    "ExecuteTime": {
     "end_time": "2024-09-11T18:16:43.593397Z",
     "start_time": "2024-09-11T18:16:39.686179Z"
    }
   },
   "source": [
    "# Your code here\n",
    "year = int(input(\"Enter a year: \"))\n",
    "if (year % 4 == 0 and year % 100 != 0) or (year % 400 == 0):\n",
    "    print(f\"{year} is a leap year.\")\n",
    "else:\n",
    "    print(f\"{year} is not a leap year.\")"
   ],
   "outputs": [
    {
     "name": "stdout",
     "output_type": "stream",
     "text": [
      "1968 is a leap year.\n"
     ]
    }
   ],
   "execution_count": 1
  },
  {
   "cell_type": "markdown",
   "metadata": {},
   "source": [
    "**Question 18:** Write a Python program to reverse a string."
   ]
  },
  {
   "cell_type": "code",
   "metadata": {
    "ExecuteTime": {
     "end_time": "2024-09-11T18:18:40.094800Z",
     "start_time": "2024-09-11T18:18:33.871229Z"
    }
   },
   "source": [
    "# Your code here\n",
    "s = input(\"Ingresa una cadena\")\n",
    "ss = s[::-1]\n",
    "print(f\"La cadena invertida es {ss}\")"
   ],
   "outputs": [
    {
     "name": "stdout",
     "output_type": "stream",
     "text": [
      "La cadena invertida es aloh\n"
     ]
    }
   ],
   "execution_count": 3
  },
  {
   "cell_type": "markdown",
   "metadata": {},
   "source": [
    "**Question 19:** Write a Python program to check if a string is a palindrome."
   ]
  },
  {
   "cell_type": "code",
   "metadata": {
    "ExecuteTime": {
     "end_time": "2024-09-11T18:31:22.705512Z",
     "start_time": "2024-09-11T18:31:19.604487Z"
    }
   },
   "source": [
    "# Your code here\n",
    "s = input(\"Ingresa una cadena\")\n",
    "ss = s[::-1]\n",
    "\n",
    "if s == ss:\n",
    "    print(\"Es un palindromo\")\n",
    "else:\n",
    "    print(\"No es un palindromo\")"
   ],
   "outputs": [
    {
     "name": "stdout",
     "output_type": "stream",
     "text": [
      "No es un palindromo\n"
     ]
    }
   ],
   "execution_count": 6
  },
  {
   "cell_type": "markdown",
   "metadata": {},
   "source": [
    "**Question 20:** Write a Python program to sort a list of numbers in ascending order."
   ]
  },
  {
   "cell_type": "code",
   "metadata": {
    "ExecuteTime": {
     "end_time": "2024-09-11T18:31:41.853943Z",
     "start_time": "2024-09-11T18:31:33.885013Z"
    }
   },
   "source": [
    "# Your code here\n",
    "numbers = [int(x) for x in input(\"Enter numbers separated by space: \").split()]\n",
    "numbers.sort()\n",
    "print(f\"Sorted list: {numbers}\")"
   ],
   "outputs": [
    {
     "name": "stdout",
     "output_type": "stream",
     "text": [
      "Sorted list: [-1, 0, 1, 1, 2, 3, 42, 88]\n"
     ]
    }
   ],
   "execution_count": 7
  },
  {
   "metadata": {},
   "cell_type": "code",
   "outputs": [],
   "execution_count": null,
   "source": ""
  }
 ],
 "metadata": {
  "kernelspec": {
   "display_name": "Python 3",
   "language": "python",
   "name": "python3"
  },
  "language_info": {
   "codemirror_mode": {
    "name": "ipython",
    "version": 3
   },
   "file_extension": ".py",
   "mimetype": "text/x-python",
   "name": "python",
   "nbconvert_exporter": "python",
   "pygments_lexer": "ipython3",
   "version": "3.8.5"
  }
 },
 "nbformat": 4,
 "nbformat_minor": 4
}
